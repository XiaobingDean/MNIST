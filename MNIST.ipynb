{
  "nbformat": 4,
  "nbformat_minor": 0,
  "metadata": {
    "colab": {
      "name": "MNIST.ipynb",
      "provenance": [],
      "collapsed_sections": [],
      "authorship_tag": "ABX9TyNh/PONEW0Z3u40AuZzHc0i",
      "include_colab_link": true
    },
    "kernelspec": {
      "name": "python3",
      "display_name": "Python 3"
    }
  },
  "cells": [
    {
      "cell_type": "markdown",
      "metadata": {
        "id": "view-in-github",
        "colab_type": "text"
      },
      "source": [
        "<a href=\"https://colab.research.google.com/github/XiaobingDean/MNIST/blob/main/MNIST.ipynb\" target=\"_parent\"><img src=\"https://colab.research.google.com/assets/colab-badge.svg\" alt=\"Open In Colab\"/></a>"
      ]
    },
    {
      "cell_type": "code",
      "metadata": {
        "id": "TJtwQs33cEwh"
      },
      "source": [
        "import numpy as np\r\n",
        "import torch\r\n",
        "\r\n",
        "from torchvision.datasets import mnist\r\n",
        "\r\n",
        "from torchvision import transforms\r\n",
        "from torch.utils.data import DataLoader\r\n",
        "\r\n",
        "import torch.nn as nn\r\n",
        "import torch.nn.functional as F\r\n",
        "import torch.optim as optim"
      ],
      "execution_count": null,
      "outputs": []
    },
    {
      "cell_type": "code",
      "metadata": {
        "id": "-RM7_g91cOO_"
      },
      "source": [
        "train_batch_size = 64\r\n",
        "test_batch_size = 128\r\n",
        "\r\n",
        "learning_rate = 0.01\r\n",
        "nums_epoches = 20\r\n",
        "\r\n",
        "lr = 0.1\r\n",
        "momentum = 0.5"
      ],
      "execution_count": null,
      "outputs": []
    },
    {
      "cell_type": "code",
      "metadata": {
        "id": "0j-h-rtTcU0k"
      },
      "source": [
        "transform = transforms.Compose([transforms.ToTensor(),transforms.Normalize([0.5],[0.5])])\r\n",
        "train_dataset = mnist.MNIST('./data', train=True, transform=transform, target_transform=None, download=True)\r\n",
        "test_dataset = mnist.MNIST('./data', train=False, transform=transform, target_transform=None, download=False)\r\n",
        "train_loader = DataLoader(train_dataset, batch_size=train_batch_size, shuffle=True)\r\n",
        "test_loader = DataLoader(test_dataset, batch_size=test_batch_size, shuffle=False)"
      ],
      "execution_count": null,
      "outputs": []
    },
    {
      "cell_type": "code",
      "metadata": {
        "colab": {
          "base_uri": "https://localhost:8080/",
          "height": 284
        },
        "id": "XdjPUb0Fche1",
        "outputId": "a8788b01-898a-48bc-c78c-83f3d8d781ea"
      },
      "source": [
        "import matplotlib.pyplot as plt\r\n",
        "%matplotlib inline\r\n",
        "examples = enumerate(test_loader)\r\n",
        "batch_idx,(example_data,example_targets) = next(examples)\r\n",
        "fig = plt.figure()\r\n",
        "for i in range(6):\r\n",
        "    plt.subplot(2,3,i+1)\r\n",
        "    plt.tight_layout()\r\n",
        "    plt.imshow(example_data[i][0],cmap='gray',interpolation='none')\r\n",
        "    plt.title(\"Ground Truth:{}\".format(example_targets[i]))\r\n",
        "    plt.xticks([])\r\n",
        "    plt.yticks([])"
      ],
      "execution_count": null,
      "outputs": [
        {
          "output_type": "display_data",
          "data": {
            "image/png": "[encoded data removed]",
            "text/plain": [
              "<Figure size 432x288 with 6 Axes>"
            ]
          },
          "metadata": {
            "tags": []
          }
        }
      ]
    },
    {
      "cell_type": "code",
      "metadata": {
        "id": "ISj-8OAwclUG"
      },
      "source": [
        "def pgd(model, X, y, epsilon, alpha, num_iter):\r\n",
        "    \"\"\" Construct FGSM adversarial examples on the examples X\"\"\"\r\n",
        "    delta = torch.zeros_like(X, requires_grad=True)\r\n",
        "    for t in range(num_iter):\r\n",
        "        loss = nn.CrossEntropyLoss()(model(X + delta), y)\r\n",
        "        loss.backward()\r\n",
        "        delta.data = (delta + X.shape[0]*alpha*delta.grad.data).clamp(-epsilon,epsilon)\r\n",
        "        delta.grad.zero_()\r\n",
        "    return delta.detach()"
      ],
      "execution_count": null,
      "outputs": []
    },
    {
      "cell_type": "code",
      "metadata": {
        "id": "pKHhWdkxctLH"
      },
      "source": [
        "class CNN(nn.Module):\r\n",
        "    def __init__(self,in_dim,hidden_1,hidden_2,out_dim):\r\n",
        "        super(CNN,self).__init__()\r\n",
        "        self.layer1 = nn.Sequential(nn.Linear(in_dim, hidden_1, bias=True),nn.BatchNorm1d(hidden_1))\r\n",
        "        self.layer2 = nn.Sequential(nn.Linear(hidden_1,hidden_2,bias=True),nn.BatchNorm1d(hidden_2))\r\n",
        "        self.layer3 = nn.Sequential(nn.Linear(hidden_2,out_dim))\r\n",
        "        \r\n",
        "    def forward(self,x):\r\n",
        "        x = F.relu(self.layer1(x))\r\n",
        "        x = F.relu(self.layer2(x))\r\n",
        "        x = self.layer3(x)\r\n",
        "        return x"
      ],
      "execution_count": null,
      "outputs": []
    },
    {
      "cell_type": "code",
      "metadata": {
        "id": "DRM-amerA_KR"
      },
      "source": [
        "model = CNN(28*28,300,100,10)\r\n",
        "criterion = nn.CrossEntropyLoss()\r\n",
        "optimizer = optim.SGD(model.parameters(),lr=lr,momentum=momentum)\r\n",
        "\r\n",
        "\r\n",
        "model_2 = CNN(28*28,300,100,10)\r\n",
        "criterion_2 = nn.CrossEntropyLoss()\r\n",
        "optimizer_2 = optim.SGD(model.parameters(),lr=lr,momentum=momentum)"
      ],
      "execution_count": null,
      "outputs": []
    },
    {
      "cell_type": "code",
      "metadata": {
        "colab": {
          "base_uri": "https://localhost:8080/"
        },
        "id": "hRp_vizrcz1b",
        "outputId": "8c9dce92-249e-4620-b893-a20051cdb28a"
      },
      "source": [
        "losses = []\r\n",
        "acces = []\r\n",
        "\r\n",
        "eval_losses = []\r\n",
        "eval_acces = []\r\n",
        "\r\n",
        "for epoch in range(nums_epoches):\r\n",
        "\r\n",
        "    train_loss = 0\r\n",
        "    train_acc = 0\r\n",
        "\r\n",
        "    model.train()\r\n",
        "\r\n",
        "    if epoch%5 == 0:\r\n",
        "        optimizer.param_groups[0]['lr'] *= 0.1\r\n",
        "    for img,label in train_loader:\r\n",
        "\r\n",
        "        img = img.view(img.size(0),-1)\r\n",
        "        \r\n",
        "        out = model(img)\r\n",
        "\r\n",
        "        loss = criterion(out,label)\r\n",
        "\r\n",
        "        optimizer.zero_grad()\r\n",
        "        loss.backward()\r\n",
        " \r\n",
        "        optimizer.step()\r\n",
        "\r\n",
        "        train_loss += loss.item()\r\n",
        "\r\n",
        "        _,pred = out.max(1)\r\n",
        "        num_correct = (pred == label).sum().item()\r\n",
        "        acc = num_correct/img.shape[0]\r\n",
        "        train_acc += acc\r\n",
        "    losses.append(train_loss/len(train_loader))\r\n",
        "    acces.append(train_acc/len(train_loader))\r\n",
        "    \r\n",
        "    eval_loss = 0\r\n",
        "    eval_acc = 0\r\n",
        "    model.eval()\r\n",
        "    for img,label in test_loader:\r\n",
        "        img = img.view(img.size(0),-1)\r\n",
        "        \r\n",
        "        out = model(img)\r\n",
        "        loss = criterion(out,label)\r\n",
        "        \r\n",
        "        optimizer.zero_grad()\r\n",
        "        loss.backward()\r\n",
        "        optimizer.step()\r\n",
        "        \r\n",
        "        eval_loss += loss.item()\r\n",
        "        \r\n",
        "        _,pred = out.max(1)\r\n",
        "        num_correct = (pred == label).sum().item()\r\n",
        "        acc = num_correct/img.shape[0]\r\n",
        "        eval_acc += acc\r\n",
        "    eval_losses.append(eval_loss/len(test_loader))\r\n",
        "    eval_acces.append(eval_acc/len(test_loader))\r\n",
        "\r\n",
        "    print('epoch:{},Train Loss:{:.4f},Train Acc:{:.4f},Test Loss:{:.4f},Test Acc:{:.4f}'\r\n",
        "             .format(epoch,train_loss/len(train_loader),train_acc/len(train_loader),\r\n",
        "                    eval_loss/len(test_loader),eval_acc/len(test_loader)))"
      ],
      "execution_count": null,
      "outputs": [
        {
          "output_type": "stream",
          "text": [
            "epoch:0,Train Loss:0.3477,Train Acc:0.9175,Test Loss:0.1543,Test Acc:0.9530\n",
            "epoch:1,Train Loss:0.1270,Train Acc:0.9652,Test Loss:0.1019,Test Acc:0.9669\n",
            "epoch:2,Train Loss:0.0860,Train Acc:0.9765,Test Loss:0.0809,Test Acc:0.9744\n",
            "epoch:3,Train Loss:0.0655,Train Acc:0.9822,Test Loss:0.0671,Test Acc:0.9797\n",
            "epoch:4,Train Loss:0.0521,Train Acc:0.9862,Test Loss:0.0565,Test Acc:0.9834\n",
            "epoch:5,Train Loss:0.0386,Train Acc:0.9905,Test Loss:0.0291,Test Acc:0.9920\n",
            "epoch:6,Train Loss:0.0337,Train Acc:0.9923,Test Loss:0.0291,Test Acc:0.9919\n",
            "epoch:7,Train Loss:0.0334,Train Acc:0.9922,Test Loss:0.0283,Test Acc:0.9919\n",
            "epoch:8,Train Loss:0.0320,Train Acc:0.9927,Test Loss:0.0276,Test Acc:0.9923\n",
            "epoch:9,Train Loss:0.0309,Train Acc:0.9933,Test Loss:0.0273,Test Acc:0.9925\n",
            "epoch:10,Train Loss:0.0300,Train Acc:0.9937,Test Loss:0.0265,Test Acc:0.9938\n",
            "epoch:11,Train Loss:0.0290,Train Acc:0.9940,Test Loss:0.0265,Test Acc:0.9938\n",
            "epoch:12,Train Loss:0.0289,Train Acc:0.9940,Test Loss:0.0267,Test Acc:0.9934\n",
            "epoch:13,Train Loss:0.0286,Train Acc:0.9939,Test Loss:0.0260,Test Acc:0.9935\n",
            "epoch:14,Train Loss:0.0282,Train Acc:0.9943,Test Loss:0.0267,Test Acc:0.9933\n",
            "epoch:15,Train Loss:0.0291,Train Acc:0.9941,Test Loss:0.0268,Test Acc:0.9928\n",
            "epoch:16,Train Loss:0.0286,Train Acc:0.9941,Test Loss:0.0268,Test Acc:0.9936\n",
            "epoch:17,Train Loss:0.0289,Train Acc:0.9939,Test Loss:0.0271,Test Acc:0.9932\n",
            "epoch:18,Train Loss:0.0285,Train Acc:0.9941,Test Loss:0.0269,Test Acc:0.9935\n",
            "epoch:19,Train Loss:0.0284,Train Acc:0.9944,Test Loss:0.0264,Test Acc:0.9934\n"
          ],
          "name": "stdout"
        }
      ]
    },
    {
      "cell_type": "code",
      "metadata": {
        "colab": {
          "base_uri": "https://localhost:8080/"
        },
        "id": "QxyciDKhe6JZ",
        "outputId": "210b5747-e579-4e46-c87d-ddeaad4f4660"
      },
      "source": [
        "losses_pgd = []\r\n",
        "acces_pgd = []\r\n",
        "\r\n",
        "eval_losses_pgd = []\r\n",
        "eval_acces_pgd = []\r\n",
        "\r\n",
        "for epoch in range(nums_epoches):\r\n",
        "\r\n",
        "    train_loss = 0\r\n",
        "    train_acc = 0\r\n",
        "\r\n",
        "    model_2.train()\r\n",
        "\r\n",
        "    if epoch%5 == 0:\r\n",
        "        optimizer_2.param_groups[0]['lr'] *= 0.1\r\n",
        "    for img,label in train_loader:\r\n",
        "\r\n",
        "        img = img.view(img.size(0),-1)\r\n",
        "\r\n",
        "        img_pgd = img + pgd(model_2, img, label, 1e-1, 1e-3, 1)\r\n",
        "        \r\n",
        "        out = model_2(img_pgd)\r\n",
        "\r\n",
        "        loss = criterion_2(out,label)\r\n",
        "\r\n",
        "        optimizer_2.zero_grad()\r\n",
        "        loss.backward()\r\n",
        " \r\n",
        "        optimizer_2.step()\r\n",
        "\r\n",
        "        train_loss += loss.item()\r\n",
        "\r\n",
        "        _,pred = out.max(1)\r\n",
        "        num_correct = (pred == label).sum().item()\r\n",
        "        acc = num_correct/img.shape[0]\r\n",
        "        train_acc += acc\r\n",
        "    losses_pgd.append(train_loss/len(train_loader))\r\n",
        "    acces_pgd.append(train_acc/len(train_loader))\r\n",
        "    \r\n",
        "    eval_loss = 0\r\n",
        "    eval_acc = 0\r\n",
        "    model_2.eval()\r\n",
        "    for img,label in test_loader:\r\n",
        "        img = img.view(img.size(0),-1)\r\n",
        "        \r\n",
        "        out = model_2(img)\r\n",
        "        loss = criterion_2(out,label)\r\n",
        "        \r\n",
        "        optimizer_2.zero_grad()\r\n",
        "        loss.backward()\r\n",
        "        optimizer_2.step()\r\n",
        "        \r\n",
        "        eval_loss += loss.item()\r\n",
        "        \r\n",
        "        _,pred = out.max(1)\r\n",
        "        num_correct = (pred == label).sum().item()\r\n",
        "        acc = num_correct/img.shape[0]\r\n",
        "        eval_acc += acc\r\n",
        "    eval_losses_pgd.append(eval_loss/len(test_loader))\r\n",
        "    eval_acces_pgd.append(eval_acc/len(test_loader))\r\n",
        "\r\n",
        "    print('epoch:{},Train Loss:{:.4f},Train Acc:{:.4f},Test Loss:{:.4f},Test Acc:{:.4f}'\r\n",
        "             .format(epoch,train_loss/len(train_loader),train_acc/len(train_loader),\r\n",
        "                    eval_loss/len(test_loader),eval_acc/len(test_loader)))"
      ],
      "execution_count": null,
      "outputs": [
        {
          "output_type": "stream",
          "text": [
            "epoch:0,Train Loss:2.3178,Train Acc:0.1832,Test Loss:2.3168,Test Acc:0.1840\n",
            "epoch:1,Train Loss:2.3179,Train Acc:0.1837,Test Loss:2.3177,Test Acc:0.1869\n",
            "epoch:2,Train Loss:2.3177,Train Acc:0.1848,Test Loss:2.3194,Test Acc:0.1889\n",
            "epoch:3,Train Loss:2.3176,Train Acc:0.1830,Test Loss:2.3195,Test Acc:0.1830\n",
            "epoch:4,Train Loss:2.3171,Train Acc:0.1849,Test Loss:2.3176,Test Acc:0.1827\n",
            "epoch:5,Train Loss:2.3174,Train Acc:0.1829,Test Loss:2.3141,Test Acc:0.1863\n",
            "epoch:6,Train Loss:2.3184,Train Acc:0.1841,Test Loss:2.3190,Test Acc:0.1891\n",
            "epoch:7,Train Loss:2.3181,Train Acc:0.1840,Test Loss:2.3163,Test Acc:0.1883\n",
            "epoch:8,Train Loss:2.3176,Train Acc:0.1834,Test Loss:2.3182,Test Acc:0.1848\n",
            "epoch:9,Train Loss:2.3174,Train Acc:0.1845,Test Loss:2.3195,Test Acc:0.1836\n",
            "epoch:10,Train Loss:2.3176,Train Acc:0.1830,Test Loss:2.3158,Test Acc:0.1830\n",
            "epoch:11,Train Loss:2.3176,Train Acc:0.1831,Test Loss:2.3172,Test Acc:0.1867\n",
            "epoch:12,Train Loss:2.3181,Train Acc:0.1830,Test Loss:2.3186,Test Acc:0.1857\n",
            "epoch:13,Train Loss:2.3180,Train Acc:0.1836,Test Loss:2.3197,Test Acc:0.1844\n",
            "epoch:14,Train Loss:2.3180,Train Acc:0.1838,Test Loss:2.3186,Test Acc:0.1842\n",
            "epoch:15,Train Loss:2.3181,Train Acc:0.1843,Test Loss:2.3144,Test Acc:0.1872\n",
            "epoch:16,Train Loss:2.3177,Train Acc:0.1847,Test Loss:2.3173,Test Acc:0.1850\n",
            "epoch:17,Train Loss:2.3174,Train Acc:0.1825,Test Loss:2.3208,Test Acc:0.1887\n",
            "epoch:18,Train Loss:2.3171,Train Acc:0.1847,Test Loss:2.3143,Test Acc:0.1887\n",
            "epoch:19,Train Loss:2.3178,Train Acc:0.1840,Test Loss:2.3203,Test Acc:0.1884\n"
          ],
          "name": "stdout"
        }
      ]
    },
    {
      "cell_type": "code",
      "metadata": {
        "colab": {
          "base_uri": "https://localhost:8080/",
          "height": 298
        },
        "id": "9_x-zZWnwySs",
        "outputId": "d8e3e596-68a3-47bf-a407-9d9672236fc3"
      },
      "source": [
        "plt.title('trainloss')\r\n",
        "plt.plot(np.arange(len(losses)),losses, np.arange(len(losses_pgd)),losses_pgd)\r\n",
        "plt.legend(['Train Loss', 'Train Loss of attacked model'],loc='right')"
      ],
      "execution_count": null,
      "outputs": [
        {
          "output_type": "execute_result",
          "data": {
            "text/plain": [
              "<matplotlib.legend.Legend at 0x7f17c7119d68>"
            ]
          },
          "metadata": {
            "tags": []
          },
          "execution_count": 21
        },
        {
          "output_type": "display_data",
          "data": {
            "image/png": "[encoded data removed]",
            "text/plain": [
              "<Figure size 432x288 with 1 Axes>"
            ]
          },
          "metadata": {
            "tags": [],
            "needs_background": "light"
          }
        }
      ]
    },
    {
      "cell_type": "code",
      "metadata": {
        "id": "H_N4_F3Lw86E",
        "colab": {
          "base_uri": "https://localhost:8080/",
          "height": 284
        },
        "outputId": "196f32c4-b539-414a-ecd2-49dd0b64659e"
      },
      "source": [
        "%matplotlib inline\r\n",
        "batch_idx,(example_data,example_targets) = next(examples)\r\n",
        "fig = plt.figure()\r\n",
        "\r\n",
        "img = example_data.view(example_data.size(0),-1)\r\n",
        "label = example_targets\r\n",
        "noise = pgd(model, img, label, 1, 1, 3)\r\n",
        "img_pgd = img + noise\r\n",
        "        \r\n",
        "out = model(img)\r\n",
        "_,pred = out.max(1)\r\n",
        "\r\n",
        "for i in range(6):\r\n",
        "    plt.subplot(2,3,i+1)\r\n",
        "    plt.tight_layout()\r\n",
        "    plt.imshow(example_data[i][0],cmap='gray',interpolation='none')\r\n",
        "    plt.title(\"Ground Truth:{}\\n Prediction:{}\".format(example_targets[i], pred[i]))\r\n",
        "    plt.xticks([])\r\n",
        "    plt.yticks([])"
      ],
      "execution_count": null,
      "outputs": [
        {
          "output_type": "display_data",
          "data": {
            "image/png": "[encoded data removed]",
            "text/plain": [
              "<Figure size 432x288 with 6 Axes>"
            ]
          },
          "metadata": {
            "tags": []
          }
        }
      ]
    },
    {
      "cell_type": "code",
      "metadata": {
        "colab": {
          "base_uri": "https://localhost:8080/",
          "height": 284
        },
        "id": "IOUWpPtfCSLp",
        "outputId": "1d02c33d-4fad-46aa-a607-b5e0b9ac6b22"
      },
      "source": [
        "%matplotlib inline\r\n",
        "noise = noise.view(example_data.shape)\r\n",
        "for i in range(6):\r\n",
        "    plt.subplot(2,3,i+1)\r\n",
        "    plt.tight_layout()\r\n",
        "    plt.imshow(noise[i][0],cmap='gray',interpolation='none')\r\n",
        "    plt.title(\"noise of image{}\".format(i))\r\n",
        "    plt.xticks([])\r\n",
        "    plt.yticks([])"
      ],
      "execution_count": null,
      "outputs": [
        {
          "output_type": "display_data",
          "data": {
            "image/png": "[encoded data removed]",
            "text/plain": [
              "<Figure size 432x288 with 6 Axes>"
            ]
          },
          "metadata": {
            "tags": []
          }
        }
      ]
    },
    {
      "cell_type": "code",
      "metadata": {
        "colab": {
          "base_uri": "https://localhost:8080/",
          "height": 284
        },
        "id": "TrdbLsQvCW_4",
        "outputId": "8d4c161c-8fb8-48db-b375-896620827e2e"
      },
      "source": [
        "%matplotlib inline\r\n",
        "\r\n",
        "out_pgd = model(img_pgd)\r\n",
        "_,pred_pgd = out_pgd.max(1)\r\n",
        "example_pgd = img_pgd.view(example_data.shape)\r\n",
        "\r\n",
        "for i in range(6):\r\n",
        "    plt.subplot(2,3,i+1)\r\n",
        "    plt.tight_layout()\r\n",
        "    plt.imshow(example_pgd[i][0],cmap='gray',interpolation='none')\r\n",
        "    plt.title(\"Ground Truth:{}\\n Prediction:{}\".format(example_targets[i], pred_pgd[i]))\r\n",
        "    plt.xticks([])\r\n",
        "    plt.yticks([])"
      ],
      "execution_count": null,
      "outputs": [
        {
          "output_type": "display_data",
          "data": {
            "image/png": "[encoded data removed]",
            "text/plain": [
              "<Figure size 432x288 with 6 Axes>"
            ]
          },
          "metadata": {
            "tags": []
          }
        }
      ]
    }
  ]
}