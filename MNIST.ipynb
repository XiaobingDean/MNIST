{
  "nbformat": 4,
  "nbformat_minor": 0,
  "metadata": {
    "colab": {
      "name": "MNIST.ipynb",
      "provenance": [],
      "collapsed_sections": [],
      "authorship_tag": "ABX9TyOH/l956uNH02RBO6fUOmOa",
      "include_colab_link": true
    },
    "kernelspec": {
      "name": "python3",
      "display_name": "Python 3"
    },
    "widgets": {
      "application/vnd.jupyter.widget-state+json": {
        "5b9c87a0151f449cb4d1bd34924fb2c2": {
          "model_module": "@jupyter-widgets/controls",
          "model_name": "HBoxModel",
          "state": {
            "_view_name": "HBoxView",
            "_dom_classes": [],
            "_model_name": "HBoxModel",
            "_view_module": "@jupyter-widgets/controls",
            "_model_module_version": "1.5.0",
            "_view_count": null,
            "_view_module_version": "1.5.0",
            "box_style": "",
            "layout": "IPY_MODEL_3354a2c1e84e48fd90dbc3018ea84758",
            "_model_module": "@jupyter-widgets/controls",
            "children": [
              "IPY_MODEL_219ba50901894c8abde195054d96fc5e",
              "IPY_MODEL_9de81b48552c4549bfc6d976669ca2df"
            ]
          }
        },
        "3354a2c1e84e48fd90dbc3018ea84758": {
          "model_module": "@jupyter-widgets/base",
          "model_name": "LayoutModel",
          "state": {
            "_view_name": "LayoutView",
            "grid_template_rows": null,
            "right": null,
            "justify_content": null,
            "_view_module": "@jupyter-widgets/base",
            "overflow": null,
            "_model_module_version": "1.2.0",
            "_view_count": null,
            "flex_flow": null,
            "width": null,
            "min_width": null,
            "border": null,
            "align_items": null,
            "bottom": null,
            "_model_module": "@jupyter-widgets/base",
            "top": null,
            "grid_column": null,
            "overflow_y": null,
            "overflow_x": null,
            "grid_auto_flow": null,
            "grid_area": null,
            "grid_template_columns": null,
            "flex": null,
            "_model_name": "LayoutModel",
            "justify_items": null,
            "grid_row": null,
            "max_height": null,
            "align_content": null,
            "visibility": null,
            "align_self": null,
            "height": null,
            "min_height": null,
            "padding": null,
            "grid_auto_rows": null,
            "grid_gap": null,
            "max_width": null,
            "order": null,
            "_view_module_version": "1.2.0",
            "grid_template_areas": null,
            "object_position": null,
            "object_fit": null,
            "grid_auto_columns": null,
            "margin": null,
            "display": null,
            "left": null
          }
        },
        "219ba50901894c8abde195054d96fc5e": {
          "model_module": "@jupyter-widgets/controls",
          "model_name": "FloatProgressModel",
          "state": {
            "_view_name": "ProgressView",
            "style": "IPY_MODEL_a873ff34f37342baaf4b533e4d631e58",
            "_dom_classes": [],
            "description": "",
            "_model_name": "FloatProgressModel",
            "bar_style": "info",
            "max": 1,
            "_view_module": "@jupyter-widgets/controls",
            "_model_module_version": "1.5.0",
            "value": 1,
            "_view_count": null,
            "_view_module_version": "1.5.0",
            "orientation": "horizontal",
            "min": 0,
            "description_tooltip": null,
            "_model_module": "@jupyter-widgets/controls",
            "layout": "IPY_MODEL_9fe394d0386d4a6eb8ce49c2b221caff"
          }
        },
        "9de81b48552c4549bfc6d976669ca2df": {
          "model_module": "@jupyter-widgets/controls",
          "model_name": "HTMLModel",
          "state": {
            "_view_name": "HTMLView",
            "style": "IPY_MODEL_c98b3d06dc924f33a2d6b6d32a06fb70",
            "_dom_classes": [],
            "description": "",
            "_model_name": "HTMLModel",
            "placeholder": "​",
            "_view_module": "@jupyter-widgets/controls",
            "_model_module_version": "1.5.0",
            "value": " 9920512/? [00:20&lt;00:00, 1452030.78it/s]",
            "_view_count": null,
            "_view_module_version": "1.5.0",
            "description_tooltip": null,
            "_model_module": "@jupyter-widgets/controls",
            "layout": "IPY_MODEL_d2288446c8e64e9daf8b83fc9bcd380e"
          }
        },
        "a873ff34f37342baaf4b533e4d631e58": {
          "model_module": "@jupyter-widgets/controls",
          "model_name": "ProgressStyleModel",
          "state": {
            "_view_name": "StyleView",
            "_model_name": "ProgressStyleModel",
            "description_width": "initial",
            "_view_module": "@jupyter-widgets/base",
            "_model_module_version": "1.5.0",
            "_view_count": null,
            "_view_module_version": "1.2.0",
            "bar_color": null,
            "_model_module": "@jupyter-widgets/controls"
          }
        },
        "9fe394d0386d4a6eb8ce49c2b221caff": {
          "model_module": "@jupyter-widgets/base",
          "model_name": "LayoutModel",
          "state": {
            "_view_name": "LayoutView",
            "grid_template_rows": null,
            "right": null,
            "justify_content": null,
            "_view_module": "@jupyter-widgets/base",
            "overflow": null,
            "_model_module_version": "1.2.0",
            "_view_count": null,
            "flex_flow": null,
            "width": null,
            "min_width": null,
            "border": null,
            "align_items": null,
            "bottom": null,
            "_model_module": "@jupyter-widgets/base",
            "top": null,
            "grid_column": null,
            "overflow_y": null,
            "overflow_x": null,
            "grid_auto_flow": null,
            "grid_area": null,
            "grid_template_columns": null,
            "flex": null,
            "_model_name": "LayoutModel",
            "justify_items": null,
            "grid_row": null,
            "max_height": null,
            "align_content": null,
            "visibility": null,
            "align_self": null,
            "height": null,
            "min_height": null,
            "padding": null,
            "grid_auto_rows": null,
            "grid_gap": null,
            "max_width": null,
            "order": null,
            "_view_module_version": "1.2.0",
            "grid_template_areas": null,
            "object_position": null,
            "object_fit": null,
            "grid_auto_columns": null,
            "margin": null,
            "display": null,
            "left": null
          }
        },
        "c98b3d06dc924f33a2d6b6d32a06fb70": {
          "model_module": "@jupyter-widgets/controls",
          "model_name": "DescriptionStyleModel",
          "state": {
            "_view_name": "StyleView",
            "_model_name": "DescriptionStyleModel",
            "description_width": "",
            "_view_module": "@jupyter-widgets/base",
            "_model_module_version": "1.5.0",
            "_view_count": null,
            "_view_module_version": "1.2.0",
            "_model_module": "@jupyter-widgets/controls"
          }
        },
        "d2288446c8e64e9daf8b83fc9bcd380e": {
          "model_module": "@jupyter-widgets/base",
          "model_name": "LayoutModel",
          "state": {
            "_view_name": "LayoutView",
            "grid_template_rows": null,
            "right": null,
            "justify_content": null,
            "_view_module": "@jupyter-widgets/base",
            "overflow": null,
            "_model_module_version": "1.2.0",
            "_view_count": null,
            "flex_flow": null,
            "width": null,
            "min_width": null,
            "border": null,
            "align_items": null,
            "bottom": null,
            "_model_module": "@jupyter-widgets/base",
            "top": null,
            "grid_column": null,
            "overflow_y": null,
            "overflow_x": null,
            "grid_auto_flow": null,
            "grid_area": null,
            "grid_template_columns": null,
            "flex": null,
            "_model_name": "LayoutModel",
            "justify_items": null,
            "grid_row": null,
            "max_height": null,
            "align_content": null,
            "visibility": null,
            "align_self": null,
            "height": null,
            "min_height": null,
            "padding": null,
            "grid_auto_rows": null,
            "grid_gap": null,
            "max_width": null,
            "order": null,
            "_view_module_version": "1.2.0",
            "grid_template_areas": null,
            "object_position": null,
            "object_fit": null,
            "grid_auto_columns": null,
            "margin": null,
            "display": null,
            "left": null
          }
        },
        "5e92ae0c319049a69fa02ca9d82396b6": {
          "model_module": "@jupyter-widgets/controls",
          "model_name": "HBoxModel",
          "state": {
            "_view_name": "HBoxView",
            "_dom_classes": [],
            "_model_name": "HBoxModel",
            "_view_module": "@jupyter-widgets/controls",
            "_model_module_version": "1.5.0",
            "_view_count": null,
            "_view_module_version": "1.5.0",
            "box_style": "",
            "layout": "IPY_MODEL_7cb80f3d6f4b4f189d549d3663107f3b",
            "_model_module": "@jupyter-widgets/controls",
            "children": [
              "IPY_MODEL_a623235c8c26496eae7e481edf63a855",
              "IPY_MODEL_a410046876fe4c8fa98a8608a708f338"
            ]
          }
        },
        "7cb80f3d6f4b4f189d549d3663107f3b": {
          "model_module": "@jupyter-widgets/base",
          "model_name": "LayoutModel",
          "state": {
            "_view_name": "LayoutView",
            "grid_template_rows": null,
            "right": null,
            "justify_content": null,
            "_view_module": "@jupyter-widgets/base",
            "overflow": null,
            "_model_module_version": "1.2.0",
            "_view_count": null,
            "flex_flow": null,
            "width": null,
            "min_width": null,
            "border": null,
            "align_items": null,
            "bottom": null,
            "_model_module": "@jupyter-widgets/base",
            "top": null,
            "grid_column": null,
            "overflow_y": null,
            "overflow_x": null,
            "grid_auto_flow": null,
            "grid_area": null,
            "grid_template_columns": null,
            "flex": null,
            "_model_name": "LayoutModel",
            "justify_items": null,
            "grid_row": null,
            "max_height": null,
            "align_content": null,
            "visibility": null,
            "align_self": null,
            "height": null,
            "min_height": null,
            "padding": null,
            "grid_auto_rows": null,
            "grid_gap": null,
            "max_width": null,
            "order": null,
            "_view_module_version": "1.2.0",
            "grid_template_areas": null,
            "object_position": null,
            "object_fit": null,
            "grid_auto_columns": null,
            "margin": null,
            "display": null,
            "left": null
          }
        },
        "a623235c8c26496eae7e481edf63a855": {
          "model_module": "@jupyter-widgets/controls",
          "model_name": "FloatProgressModel",
          "state": {
            "_view_name": "ProgressView",
            "style": "IPY_MODEL_7a4bfd6dcee7458f875e8953834da3eb",
            "_dom_classes": [],
            "description": "",
            "_model_name": "FloatProgressModel",
            "bar_style": "success",
            "max": 1,
            "_view_module": "@jupyter-widgets/controls",
            "_model_module_version": "1.5.0",
            "value": 1,
            "_view_count": null,
            "_view_module_version": "1.5.0",
            "orientation": "horizontal",
            "min": 0,
            "description_tooltip": null,
            "_model_module": "@jupyter-widgets/controls",
            "layout": "IPY_MODEL_4e7efd064dd5459882cd5803d8d86c53"
          }
        },
        "a410046876fe4c8fa98a8608a708f338": {
          "model_module": "@jupyter-widgets/controls",
          "model_name": "HTMLModel",
          "state": {
            "_view_name": "HTMLView",
            "style": "IPY_MODEL_96d9ea3481be4fef97ced75cfcf864b6",
            "_dom_classes": [],
            "description": "",
            "_model_name": "HTMLModel",
            "placeholder": "​",
            "_view_module": "@jupyter-widgets/controls",
            "_model_module_version": "1.5.0",
            "value": " 32768/? [00:00&lt;00:00, 92523.70it/s]",
            "_view_count": null,
            "_view_module_version": "1.5.0",
            "description_tooltip": null,
            "_model_module": "@jupyter-widgets/controls",
            "layout": "IPY_MODEL_8e5a5c3d5a254c559b6082e746da9792"
          }
        },
        "7a4bfd6dcee7458f875e8953834da3eb": {
          "model_module": "@jupyter-widgets/controls",
          "model_name": "ProgressStyleModel",
          "state": {
            "_view_name": "StyleView",
            "_model_name": "ProgressStyleModel",
            "description_width": "initial",
            "_view_module": "@jupyter-widgets/base",
            "_model_module_version": "1.5.0",
            "_view_count": null,
            "_view_module_version": "1.2.0",
            "bar_color": null,
            "_model_module": "@jupyter-widgets/controls"
          }
        },
        "4e7efd064dd5459882cd5803d8d86c53": {
          "model_module": "@jupyter-widgets/base",
          "model_name": "LayoutModel",
          "state": {
            "_view_name": "LayoutView",
            "grid_template_rows": null,
            "right": null,
            "justify_content": null,
            "_view_module": "@jupyter-widgets/base",
            "overflow": null,
            "_model_module_version": "1.2.0",
            "_view_count": null,
            "flex_flow": null,
            "width": null,
            "min_width": null,
            "border": null,
            "align_items": null,
            "bottom": null,
            "_model_module": "@jupyter-widgets/base",
            "top": null,
            "grid_column": null,
            "overflow_y": null,
            "overflow_x": null,
            "grid_auto_flow": null,
            "grid_area": null,
            "grid_template_columns": null,
            "flex": null,
            "_model_name": "LayoutModel",
            "justify_items": null,
            "grid_row": null,
            "max_height": null,
            "align_content": null,
            "visibility": null,
            "align_self": null,
            "height": null,
            "min_height": null,
            "padding": null,
            "grid_auto_rows": null,
            "grid_gap": null,
            "max_width": null,
            "order": null,
            "_view_module_version": "1.2.0",
            "grid_template_areas": null,
            "object_position": null,
            "object_fit": null,
            "grid_auto_columns": null,
            "margin": null,
            "display": null,
            "left": null
          }
        },
        "96d9ea3481be4fef97ced75cfcf864b6": {
          "model_module": "@jupyter-widgets/controls",
          "model_name": "DescriptionStyleModel",
          "state": {
            "_view_name": "StyleView",
            "_model_name": "DescriptionStyleModel",
            "description_width": "",
            "_view_module": "@jupyter-widgets/base",
            "_model_module_version": "1.5.0",
            "_view_count": null,
            "_view_module_version": "1.2.0",
            "_model_module": "@jupyter-widgets/controls"
          }
        },
        "8e5a5c3d5a254c559b6082e746da9792": {
          "model_module": "@jupyter-widgets/base",
          "model_name": "LayoutModel",
          "state": {
            "_view_name": "LayoutView",
            "grid_template_rows": null,
            "right": null,
            "justify_content": null,
            "_view_module": "@jupyter-widgets/base",
            "overflow": null,
            "_model_module_version": "1.2.0",
            "_view_count": null,
            "flex_flow": null,
            "width": null,
            "min_width": null,
            "border": null,
            "align_items": null,
            "bottom": null,
            "_model_module": "@jupyter-widgets/base",
            "top": null,
            "grid_column": null,
            "overflow_y": null,
            "overflow_x": null,
            "grid_auto_flow": null,
            "grid_area": null,
            "grid_template_columns": null,
            "flex": null,
            "_model_name": "LayoutModel",
            "justify_items": null,
            "grid_row": null,
            "max_height": null,
            "align_content": null,
            "visibility": null,
            "align_self": null,
            "height": null,
            "min_height": null,
            "padding": null,
            "grid_auto_rows": null,
            "grid_gap": null,
            "max_width": null,
            "order": null,
            "_view_module_version": "1.2.0",
            "grid_template_areas": null,
            "object_position": null,
            "object_fit": null,
            "grid_auto_columns": null,
            "margin": null,
            "display": null,
            "left": null
          }
        },
        "829f0749a3f2414cba550b4125db7a18": {
          "model_module": "@jupyter-widgets/controls",
          "model_name": "HBoxModel",
          "state": {
            "_view_name": "HBoxView",
            "_dom_classes": [],
            "_model_name": "HBoxModel",
            "_view_module": "@jupyter-widgets/controls",
            "_model_module_version": "1.5.0",
            "_view_count": null,
            "_view_module_version": "1.5.0",
            "box_style": "",
            "layout": "IPY_MODEL_a9c13397b0b04b24a7dcb22effbcf3d8",
            "_model_module": "@jupyter-widgets/controls",
            "children": [
              "IPY_MODEL_83654376f2b1450aba2102b2171ac601",
              "IPY_MODEL_c9a97d165c5d48f5b48c649114a4086b"
            ]
          }
        },
        "a9c13397b0b04b24a7dcb22effbcf3d8": {
          "model_module": "@jupyter-widgets/base",
          "model_name": "LayoutModel",
          "state": {
            "_view_name": "LayoutView",
            "grid_template_rows": null,
            "right": null,
            "justify_content": null,
            "_view_module": "@jupyter-widgets/base",
            "overflow": null,
            "_model_module_version": "1.2.0",
            "_view_count": null,
            "flex_flow": null,
            "width": null,
            "min_width": null,
            "border": null,
            "align_items": null,
            "bottom": null,
            "_model_module": "@jupyter-widgets/base",
            "top": null,
            "grid_column": null,
            "overflow_y": null,
            "overflow_x": null,
            "grid_auto_flow": null,
            "grid_area": null,
            "grid_template_columns": null,
            "flex": null,
            "_model_name": "LayoutModel",
            "justify_items": null,
            "grid_row": null,
            "max_height": null,
            "align_content": null,
            "visibility": null,
            "align_self": null,
            "height": null,
            "min_height": null,
            "padding": null,
            "grid_auto_rows": null,
            "grid_gap": null,
            "max_width": null,
            "order": null,
            "_view_module_version": "1.2.0",
            "grid_template_areas": null,
            "object_position": null,
            "object_fit": null,
            "grid_auto_columns": null,
            "margin": null,
            "display": null,
            "left": null
          }
        },
        "83654376f2b1450aba2102b2171ac601": {
          "model_module": "@jupyter-widgets/controls",
          "model_name": "FloatProgressModel",
          "state": {
            "_view_name": "ProgressView",
            "style": "IPY_MODEL_51e9cef86666410fa8798bb2f398d973",
            "_dom_classes": [],
            "description": "",
            "_model_name": "FloatProgressModel",
            "bar_style": "info",
            "max": 1,
            "_view_module": "@jupyter-widgets/controls",
            "_model_module_version": "1.5.0",
            "value": 1,
            "_view_count": null,
            "_view_module_version": "1.5.0",
            "orientation": "horizontal",
            "min": 0,
            "description_tooltip": null,
            "_model_module": "@jupyter-widgets/controls",
            "layout": "IPY_MODEL_2d9c3be41ec345a98fe057bd903d7c64"
          }
        },
        "c9a97d165c5d48f5b48c649114a4086b": {
          "model_module": "@jupyter-widgets/controls",
          "model_name": "HTMLModel",
          "state": {
            "_view_name": "HTMLView",
            "style": "IPY_MODEL_36af2b9d3fbd46d48a62e3aab2d69620",
            "_dom_classes": [],
            "description": "",
            "_model_name": "HTMLModel",
            "placeholder": "​",
            "_view_module": "@jupyter-widgets/controls",
            "_model_module_version": "1.5.0",
            "value": " 1654784/? [00:18&lt;00:00, 513417.71it/s]",
            "_view_count": null,
            "_view_module_version": "1.5.0",
            "description_tooltip": null,
            "_model_module": "@jupyter-widgets/controls",
            "layout": "IPY_MODEL_c1891cac4fec45e28e3f2f75ac29cb72"
          }
        },
        "51e9cef86666410fa8798bb2f398d973": {
          "model_module": "@jupyter-widgets/controls",
          "model_name": "ProgressStyleModel",
          "state": {
            "_view_name": "StyleView",
            "_model_name": "ProgressStyleModel",
            "description_width": "initial",
            "_view_module": "@jupyter-widgets/base",
            "_model_module_version": "1.5.0",
            "_view_count": null,
            "_view_module_version": "1.2.0",
            "bar_color": null,
            "_model_module": "@jupyter-widgets/controls"
          }
        },
        "2d9c3be41ec345a98fe057bd903d7c64": {
          "model_module": "@jupyter-widgets/base",
          "model_name": "LayoutModel",
          "state": {
            "_view_name": "LayoutView",
            "grid_template_rows": null,
            "right": null,
            "justify_content": null,
            "_view_module": "@jupyter-widgets/base",
            "overflow": null,
            "_model_module_version": "1.2.0",
            "_view_count": null,
            "flex_flow": null,
            "width": null,
            "min_width": null,
            "border": null,
            "align_items": null,
            "bottom": null,
            "_model_module": "@jupyter-widgets/base",
            "top": null,
            "grid_column": null,
            "overflow_y": null,
            "overflow_x": null,
            "grid_auto_flow": null,
            "grid_area": null,
            "grid_template_columns": null,
            "flex": null,
            "_model_name": "LayoutModel",
            "justify_items": null,
            "grid_row": null,
            "max_height": null,
            "align_content": null,
            "visibility": null,
            "align_self": null,
            "height": null,
            "min_height": null,
            "padding": null,
            "grid_auto_rows": null,
            "grid_gap": null,
            "max_width": null,
            "order": null,
            "_view_module_version": "1.2.0",
            "grid_template_areas": null,
            "object_position": null,
            "object_fit": null,
            "grid_auto_columns": null,
            "margin": null,
            "display": null,
            "left": null
          }
        },
        "36af2b9d3fbd46d48a62e3aab2d69620": {
          "model_module": "@jupyter-widgets/controls",
          "model_name": "DescriptionStyleModel",
          "state": {
            "_view_name": "StyleView",
            "_model_name": "DescriptionStyleModel",
            "description_width": "",
            "_view_module": "@jupyter-widgets/base",
            "_model_module_version": "1.5.0",
            "_view_count": null,
            "_view_module_version": "1.2.0",
            "_model_module": "@jupyter-widgets/controls"
          }
        },
        "c1891cac4fec45e28e3f2f75ac29cb72": {
          "model_module": "@jupyter-widgets/base",
          "model_name": "LayoutModel",
          "state": {
            "_view_name": "LayoutView",
            "grid_template_rows": null,
            "right": null,
            "justify_content": null,
            "_view_module": "@jupyter-widgets/base",
            "overflow": null,
            "_model_module_version": "1.2.0",
            "_view_count": null,
            "flex_flow": null,
            "width": null,
            "min_width": null,
            "border": null,
            "align_items": null,
            "bottom": null,
            "_model_module": "@jupyter-widgets/base",
            "top": null,
            "grid_column": null,
            "overflow_y": null,
            "overflow_x": null,
            "grid_auto_flow": null,
            "grid_area": null,
            "grid_template_columns": null,
            "flex": null,
            "_model_name": "LayoutModel",
            "justify_items": null,
            "grid_row": null,
            "max_height": null,
            "align_content": null,
            "visibility": null,
            "align_self": null,
            "height": null,
            "min_height": null,
            "padding": null,
            "grid_auto_rows": null,
            "grid_gap": null,
            "max_width": null,
            "order": null,
            "_view_module_version": "1.2.0",
            "grid_template_areas": null,
            "object_position": null,
            "object_fit": null,
            "grid_auto_columns": null,
            "margin": null,
            "display": null,
            "left": null
          }
        },
        "6abdc9903d984371afc46a2dc5edbdf6": {
          "model_module": "@jupyter-widgets/controls",
          "model_name": "HBoxModel",
          "state": {
            "_view_name": "HBoxView",
            "_dom_classes": [],
            "_model_name": "HBoxModel",
            "_view_module": "@jupyter-widgets/controls",
            "_model_module_version": "1.5.0",
            "_view_count": null,
            "_view_module_version": "1.5.0",
            "box_style": "",
            "layout": "IPY_MODEL_139538f3d75a4bd69d92a0a9dc85eec9",
            "_model_module": "@jupyter-widgets/controls",
            "children": [
              "IPY_MODEL_b2c100021eea4194ac2f792d8b3c05fd",
              "IPY_MODEL_a03efd3c15a146c5b5e1b3400b3cff5b"
            ]
          }
        },
        "139538f3d75a4bd69d92a0a9dc85eec9": {
          "model_module": "@jupyter-widgets/base",
          "model_name": "LayoutModel",
          "state": {
            "_view_name": "LayoutView",
            "grid_template_rows": null,
            "right": null,
            "justify_content": null,
            "_view_module": "@jupyter-widgets/base",
            "overflow": null,
            "_model_module_version": "1.2.0",
            "_view_count": null,
            "flex_flow": null,
            "width": null,
            "min_width": null,
            "border": null,
            "align_items": null,
            "bottom": null,
            "_model_module": "@jupyter-widgets/base",
            "top": null,
            "grid_column": null,
            "overflow_y": null,
            "overflow_x": null,
            "grid_auto_flow": null,
            "grid_area": null,
            "grid_template_columns": null,
            "flex": null,
            "_model_name": "LayoutModel",
            "justify_items": null,
            "grid_row": null,
            "max_height": null,
            "align_content": null,
            "visibility": null,
            "align_self": null,
            "height": null,
            "min_height": null,
            "padding": null,
            "grid_auto_rows": null,
            "grid_gap": null,
            "max_width": null,
            "order": null,
            "_view_module_version": "1.2.0",
            "grid_template_areas": null,
            "object_position": null,
            "object_fit": null,
            "grid_auto_columns": null,
            "margin": null,
            "display": null,
            "left": null
          }
        },
        "b2c100021eea4194ac2f792d8b3c05fd": {
          "model_module": "@jupyter-widgets/controls",
          "model_name": "FloatProgressModel",
          "state": {
            "_view_name": "ProgressView",
            "style": "IPY_MODEL_d827f7e5744242cf8452ee88bf0e9e78",
            "_dom_classes": [],
            "description": "  0%",
            "_model_name": "FloatProgressModel",
            "bar_style": "info",
            "max": 1,
            "_view_module": "@jupyter-widgets/controls",
            "_model_module_version": "1.5.0",
            "value": 0,
            "_view_count": null,
            "_view_module_version": "1.5.0",
            "orientation": "horizontal",
            "min": 0,
            "description_tooltip": null,
            "_model_module": "@jupyter-widgets/controls",
            "layout": "IPY_MODEL_0630d654f70f444c8183cfb563a8a15d"
          }
        },
        "a03efd3c15a146c5b5e1b3400b3cff5b": {
          "model_module": "@jupyter-widgets/controls",
          "model_name": "HTMLModel",
          "state": {
            "_view_name": "HTMLView",
            "style": "IPY_MODEL_9b6e08f547004d91aabd6f7c116e05a9",
            "_dom_classes": [],
            "description": "",
            "_model_name": "HTMLModel",
            "placeholder": "​",
            "_view_module": "@jupyter-widgets/controls",
            "_model_module_version": "1.5.0",
            "value": " 0/4542 [00:00&lt;?, ?it/s]",
            "_view_count": null,
            "_view_module_version": "1.5.0",
            "description_tooltip": null,
            "_model_module": "@jupyter-widgets/controls",
            "layout": "IPY_MODEL_217c0e669e5e44eebee129587a50f2a3"
          }
        },
        "d827f7e5744242cf8452ee88bf0e9e78": {
          "model_module": "@jupyter-widgets/controls",
          "model_name": "ProgressStyleModel",
          "state": {
            "_view_name": "StyleView",
            "_model_name": "ProgressStyleModel",
            "description_width": "initial",
            "_view_module": "@jupyter-widgets/base",
            "_model_module_version": "1.5.0",
            "_view_count": null,
            "_view_module_version": "1.2.0",
            "bar_color": null,
            "_model_module": "@jupyter-widgets/controls"
          }
        },
        "0630d654f70f444c8183cfb563a8a15d": {
          "model_module": "@jupyter-widgets/base",
          "model_name": "LayoutModel",
          "state": {
            "_view_name": "LayoutView",
            "grid_template_rows": null,
            "right": null,
            "justify_content": null,
            "_view_module": "@jupyter-widgets/base",
            "overflow": null,
            "_model_module_version": "1.2.0",
            "_view_count": null,
            "flex_flow": null,
            "width": null,
            "min_width": null,
            "border": null,
            "align_items": null,
            "bottom": null,
            "_model_module": "@jupyter-widgets/base",
            "top": null,
            "grid_column": null,
            "overflow_y": null,
            "overflow_x": null,
            "grid_auto_flow": null,
            "grid_area": null,
            "grid_template_columns": null,
            "flex": null,
            "_model_name": "LayoutModel",
            "justify_items": null,
            "grid_row": null,
            "max_height": null,
            "align_content": null,
            "visibility": null,
            "align_self": null,
            "height": null,
            "min_height": null,
            "padding": null,
            "grid_auto_rows": null,
            "grid_gap": null,
            "max_width": null,
            "order": null,
            "_view_module_version": "1.2.0",
            "grid_template_areas": null,
            "object_position": null,
            "object_fit": null,
            "grid_auto_columns": null,
            "margin": null,
            "display": null,
            "left": null
          }
        },
        "9b6e08f547004d91aabd6f7c116e05a9": {
          "model_module": "@jupyter-widgets/controls",
          "model_name": "DescriptionStyleModel",
          "state": {
            "_view_name": "StyleView",
            "_model_name": "DescriptionStyleModel",
            "description_width": "",
            "_view_module": "@jupyter-widgets/base",
            "_model_module_version": "1.5.0",
            "_view_count": null,
            "_view_module_version": "1.2.0",
            "_model_module": "@jupyter-widgets/controls"
          }
        },
        "217c0e669e5e44eebee129587a50f2a3": {
          "model_module": "@jupyter-widgets/base",
          "model_name": "LayoutModel",
          "state": {
            "_view_name": "LayoutView",
            "grid_template_rows": null,
            "right": null,
            "justify_content": null,
            "_view_module": "@jupyter-widgets/base",
            "overflow": null,
            "_model_module_version": "1.2.0",
            "_view_count": null,
            "flex_flow": null,
            "width": null,
            "min_width": null,
            "border": null,
            "align_items": null,
            "bottom": null,
            "_model_module": "@jupyter-widgets/base",
            "top": null,
            "grid_column": null,
            "overflow_y": null,
            "overflow_x": null,
            "grid_auto_flow": null,
            "grid_area": null,
            "grid_template_columns": null,
            "flex": null,
            "_model_name": "LayoutModel",
            "justify_items": null,
            "grid_row": null,
            "max_height": null,
            "align_content": null,
            "visibility": null,
            "align_self": null,
            "height": null,
            "min_height": null,
            "padding": null,
            "grid_auto_rows": null,
            "grid_gap": null,
            "max_width": null,
            "order": null,
            "_view_module_version": "1.2.0",
            "grid_template_areas": null,
            "object_position": null,
            "object_fit": null,
            "grid_auto_columns": null,
            "margin": null,
            "display": null,
            "left": null
          }
        }
      }
    }
  },
  "cells": [
    {
      "cell_type": "markdown",
      "metadata": {
        "id": "view-in-github",
        "colab_type": "text"
      },
      "source": [
        "<a href=\"https://colab.research.google.com/github/XiaobingDean/MNIST/blob/main/MNIST.ipynb\" target=\"_parent\"><img src=\"https://colab.research.google.com/assets/colab-badge.svg\" alt=\"Open In Colab\"/></a>"
      ]
    },
    {
      "cell_type": "code",
      "metadata": {
        "id": "TJtwQs33cEwh"
      },
      "source": [
        "import numpy as np\r\n",
        "import torch\r\n",
        "\r\n",
        "from torchvision.datasets import mnist\r\n",
        "\r\n",
        "from torchvision import transforms\r\n",
        "from torch.utils.data import DataLoader\r\n",
        "\r\n",
        "import torch.nn as nn\r\n",
        "import torch.nn.functional as F\r\n",
        "import torch.optim as optim"
      ],
      "execution_count": 4,
      "outputs": []
    },
    {
      "cell_type": "code",
      "metadata": {
        "id": "-RM7_g91cOO_"
      },
      "source": [
        "train_batch_size = 64\r\n",
        "test_batch_size = 128\r\n",
        "\r\n",
        "learning_rate = 0.01\r\n",
        "nums_epoches = 20\r\n",
        "\r\n",
        "lr = 0.1\r\n",
        "momentum = 0.5"
      ],
      "execution_count": 5,
      "outputs": []
    },
    {
      "cell_type": "code",
      "metadata": {
        "id": "0j-h-rtTcU0k",
        "colab": {
          "base_uri": "https://localhost:8080/",
          "height": 383,
          "referenced_widgets": [
            "5b9c87a0151f449cb4d1bd34924fb2c2",
            "3354a2c1e84e48fd90dbc3018ea84758",
            "219ba50901894c8abde195054d96fc5e",
            "9de81b48552c4549bfc6d976669ca2df",
            "a873ff34f37342baaf4b533e4d631e58",
            "9fe394d0386d4a6eb8ce49c2b221caff",
            "c98b3d06dc924f33a2d6b6d32a06fb70",
            "d2288446c8e64e9daf8b83fc9bcd380e",
            "5e92ae0c319049a69fa02ca9d82396b6",
            "7cb80f3d6f4b4f189d549d3663107f3b",
            "a623235c8c26496eae7e481edf63a855",
            "a410046876fe4c8fa98a8608a708f338",
            "7a4bfd6dcee7458f875e8953834da3eb",
            "4e7efd064dd5459882cd5803d8d86c53",
            "96d9ea3481be4fef97ced75cfcf864b6",
            "8e5a5c3d5a254c559b6082e746da9792",
            "829f0749a3f2414cba550b4125db7a18",
            "a9c13397b0b04b24a7dcb22effbcf3d8",
            "83654376f2b1450aba2102b2171ac601",
            "c9a97d165c5d48f5b48c649114a4086b",
            "51e9cef86666410fa8798bb2f398d973",
            "2d9c3be41ec345a98fe057bd903d7c64",
            "36af2b9d3fbd46d48a62e3aab2d69620",
            "c1891cac4fec45e28e3f2f75ac29cb72",
            "6abdc9903d984371afc46a2dc5edbdf6",
            "139538f3d75a4bd69d92a0a9dc85eec9",
            "b2c100021eea4194ac2f792d8b3c05fd",
            "a03efd3c15a146c5b5e1b3400b3cff5b",
            "d827f7e5744242cf8452ee88bf0e9e78",
            "0630d654f70f444c8183cfb563a8a15d",
            "9b6e08f547004d91aabd6f7c116e05a9",
            "217c0e669e5e44eebee129587a50f2a3"
          ]
        },
        "outputId": "675d01b8-270f-44c9-fa4d-51a595ecd5c4"
      },
      "source": [
        "transform = transforms.Compose([transforms.ToTensor(),transforms.Normalize([0.5],[0.5])])\r\n",
        "train_dataset = mnist.MNIST('./data', train=True, transform=transform, target_transform=None, download=True)\r\n",
        "test_dataset = mnist.MNIST('./data', train=False, transform=transform, target_transform=None, download=False)\r\n",
        "train_loader = DataLoader(train_dataset, batch_size=train_batch_size, shuffle=True)\r\n",
        "test_loader = DataLoader(test_dataset, batch_size=test_batch_size, shuffle=False)"
      ],
      "execution_count": 6,
      "outputs": [
        {
          "output_type": "stream",
          "text": [
            "Downloading http://yann.lecun.com/exdb/mnist/train-images-idx3-ubyte.gz to ./data/MNIST/raw/train-images-idx3-ubyte.gz\n"
          ],
          "name": "stdout"
        },
        {
          "output_type": "display_data",
          "data": {
            "application/vnd.jupyter.widget-view+json": {
              "model_id": "5b9c87a0151f449cb4d1bd34924fb2c2",
              "version_minor": 0,
              "version_major": 2
            },
            "text/plain": [
              "HBox(children=(FloatProgress(value=1.0, bar_style='info', max=1.0), HTML(value='')))"
            ]
          },
          "metadata": {
            "tags": []
          }
        },
        {
          "output_type": "stream",
          "text": [
            "Extracting ./data/MNIST/raw/train-images-idx3-ubyte.gz to ./data/MNIST/raw\n",
            "Downloading http://yann.lecun.com/exdb/mnist/train-labels-idx1-ubyte.gz to ./data/MNIST/raw/train-labels-idx1-ubyte.gz\n"
          ],
          "name": "stdout"
        },
        {
          "output_type": "display_data",
          "data": {
            "application/vnd.jupyter.widget-view+json": {
              "model_id": "5e92ae0c319049a69fa02ca9d82396b6",
              "version_minor": 0,
              "version_major": 2
            },
            "text/plain": [
              "HBox(children=(FloatProgress(value=1.0, bar_style='info', max=1.0), HTML(value='')))"
            ]
          },
          "metadata": {
            "tags": []
          }
        },
        {
          "output_type": "stream",
          "text": [
            "Extracting ./data/MNIST/raw/train-labels-idx1-ubyte.gz to ./data/MNIST/raw\n",
            "Downloading http://yann.lecun.com/exdb/mnist/t10k-images-idx3-ubyte.gz to ./data/MNIST/raw/t10k-images-idx3-ubyte.gz\n",
            "\n"
          ],
          "name": "stdout"
        },
        {
          "output_type": "display_data",
          "data": {
            "application/vnd.jupyter.widget-view+json": {
              "model_id": "829f0749a3f2414cba550b4125db7a18",
              "version_minor": 0,
              "version_major": 2
            },
            "text/plain": [
              "HBox(children=(FloatProgress(value=1.0, bar_style='info', max=1.0), HTML(value='')))"
            ]
          },
          "metadata": {
            "tags": []
          }
        },
        {
          "output_type": "stream",
          "text": [
            "Extracting ./data/MNIST/raw/t10k-images-idx3-ubyte.gz to ./data/MNIST/raw\n",
            "Downloading http://yann.lecun.com/exdb/mnist/t10k-labels-idx1-ubyte.gz to ./data/MNIST/raw/t10k-labels-idx1-ubyte.gz\n"
          ],
          "name": "stdout"
        },
        {
          "output_type": "display_data",
          "data": {
            "application/vnd.jupyter.widget-view+json": {
              "model_id": "6abdc9903d984371afc46a2dc5edbdf6",
              "version_minor": 0,
              "version_major": 2
            },
            "text/plain": [
              "HBox(children=(FloatProgress(value=1.0, bar_style='info', max=1.0), HTML(value='')))"
            ]
          },
          "metadata": {
            "tags": []
          }
        },
        {
          "output_type": "stream",
          "text": [
            "Extracting ./data/MNIST/raw/t10k-labels-idx1-ubyte.gz to ./data/MNIST/raw\n",
            "Processing...\n",
            "Done!\n"
          ],
          "name": "stdout"
        },
        {
          "output_type": "stream",
          "text": [
            "/usr/local/lib/python3.6/dist-packages/torchvision/datasets/mnist.py:480: UserWarning: The given NumPy array is not writeable, and PyTorch does not support non-writeable tensors. This means you can write to the underlying (supposedly non-writeable) NumPy array using the tensor. You may want to copy the array to protect its data or make it writeable before converting it to a tensor. This type of warning will be suppressed for the rest of this program. (Triggered internally at  /pytorch/torch/csrc/utils/tensor_numpy.cpp:141.)\n",
            "  return torch.from_numpy(parsed.astype(m[2], copy=False)).view(*s)\n"
          ],
          "name": "stderr"
        }
      ]
    },
    {
      "cell_type": "code",
      "metadata": {
        "colab": {
          "base_uri": "https://localhost:8080/",
          "height": 284
        },
        "id": "XdjPUb0Fche1",
        "outputId": "d30a904f-6647-4e3d-abc2-5cde96c179ad"
      },
      "source": [
        "import matplotlib.pyplot as plt\r\n",
        "%matplotlib inline\r\n",
        "examples = enumerate(test_loader)\r\n",
        "batch_idx,(example_data,example_targets) = next(examples)\r\n",
        "fig = plt.figure()\r\n",
        "for i in range(6):\r\n",
        "    plt.subplot(2,3,i+1)\r\n",
        "    plt.tight_layout()\r\n",
        "    plt.imshow(example_data[i][0],cmap='gray',interpolation='none')\r\n",
        "    plt.title(\"Ground Truth:{}\".format(example_targets[i]))\r\n",
        "    plt.xticks([])\r\n",
        "    plt.yticks([])"
      ],
      "execution_count": 7,
      "outputs": [
        {
          "output_type": "display_data",
          "data": {
            "image/png": "[encoded data removed]",
            "text/plain": [
              "<Figure size 432x288 with 6 Axes>"
            ]
          },
          "metadata": {
            "tags": []
          }
        }
      ]
    },
    {
      "cell_type": "code",
      "metadata": {
        "id": "ISj-8OAwclUG"
      },
      "source": [
        "def pgd(model, X, y, epsilon, alpha, num_iter):\r\n",
        "    \"\"\" Construct FGSM adversarial examples on the examples X\"\"\"\r\n",
        "    delta = torch.zeros_like(X, requires_grad=True)\r\n",
        "    for t in range(num_iter):\r\n",
        "        loss = nn.CrossEntropyLoss()(model(X + delta), y)\r\n",
        "        loss.backward()\r\n",
        "        delta.data = (delta + X.shape[0]*alpha*delta.grad.data).clamp(-epsilon,epsilon)\r\n",
        "        delta.grad.zero_()\r\n",
        "    return delta.detach()"
      ],
      "execution_count": 8,
      "outputs": []
    },
    {
      "cell_type": "code",
      "metadata": {
        "id": "pKHhWdkxctLH"
      },
      "source": [
        "class CNN(nn.Module):\r\n",
        "    def __init__(self,in_dim,hidden_1,hidden_2,out_dim):\r\n",
        "        super(CNN,self).__init__()\r\n",
        "        self.layer1 = nn.Sequential(nn.Linear(in_dim, hidden_1, bias=True),nn.BatchNorm1d(hidden_1))\r\n",
        "        self.layer2 = nn.Sequential(nn.Linear(hidden_1,hidden_2,bias=True),nn.BatchNorm1d(hidden_2))\r\n",
        "        self.layer3 = nn.Sequential(nn.Linear(hidden_2,out_dim))\r\n",
        "        \r\n",
        "    def forward(self,x):\r\n",
        "        x = F.relu(self.layer1(x))\r\n",
        "        x = F.relu(self.layer2(x))\r\n",
        "        x = self.layer3(x)\r\n",
        "        return x"
      ],
      "execution_count": 9,
      "outputs": []
    },
    {
      "cell_type": "code",
      "metadata": {
        "colab": {
          "base_uri": "https://localhost:8080/"
        },
        "id": "hRp_vizrcz1b",
        "outputId": "4e0bf0d5-1eca-420e-8599-d2d184447d5c"
      },
      "source": [
        "losses = []\r\n",
        "acces = []\r\n",
        "\r\n",
        "eval_losses = []\r\n",
        "eval_acces = []\r\n",
        "\r\n",
        "for epoch in range(nums_epoches):\r\n",
        "\r\n",
        "    train_loss = 0\r\n",
        "    train_acc = 0\r\n",
        "\r\n",
        "    model.train()\r\n",
        "\r\n",
        "    if epoch%5 == 0:\r\n",
        "        optimizer.param_groups[0]['lr'] *= 0.1\r\n",
        "    for img,label in train_loader:\r\n",
        "\r\n",
        "        img = img.view(img.size(0),-1)\r\n",
        "        \r\n",
        "        out = model(img)\r\n",
        "\r\n",
        "        loss = criterion(out,label)\r\n",
        "\r\n",
        "        optimizer.zero_grad()\r\n",
        "        loss.backward()\r\n",
        " \r\n",
        "        optimizer.step()\r\n",
        "\r\n",
        "        train_loss += loss.item()\r\n",
        "\r\n",
        "        _,pred = out.max(1)\r\n",
        "        num_correct = (pred == label).sum().item()\r\n",
        "        acc = num_correct/img.shape[0]\r\n",
        "        train_acc += acc\r\n",
        "    losses.append(train_loss/len(train_loader))\r\n",
        "    acces.append(train_acc/len(train_loader))\r\n",
        "    \r\n",
        "    eval_loss = 0\r\n",
        "    eval_acc = 0\r\n",
        "    model.eval()\r\n",
        "    for img,label in test_loader:\r\n",
        "        img = img.view(img.size(0),-1)\r\n",
        "        \r\n",
        "        out = model(img)\r\n",
        "        loss = criterion(out,label)\r\n",
        "        \r\n",
        "        optimizer.zero_grad()\r\n",
        "        loss.backward()\r\n",
        "        optimizer.step()\r\n",
        "        \r\n",
        "        eval_loss += loss.item()\r\n",
        "        \r\n",
        "        _,pred = out.max(1)\r\n",
        "        num_correct = (pred == label).sum().item()\r\n",
        "        acc = num_correct/img.shape[0]\r\n",
        "        eval_acc += acc\r\n",
        "    eval_losses.append(eval_loss/len(test_loader))\r\n",
        "    eval_acces.append(eval_acc/len(test_loader))\r\n",
        "\r\n",
        "    print('epoch:{},Train Loss:{:.4f},Train Acc:{:.4f},Test Loss:{:.4f},Test Acc:{:.4f}'\r\n",
        "             .format(epoch,train_loss/len(train_loader),train_acc/len(train_loader),\r\n",
        "                    eval_loss/len(test_loader),eval_acc/len(test_loader)))"
      ],
      "execution_count": 12,
      "outputs": [
        {
          "output_type": "stream",
          "text": [
            "epoch:0,Train Loss:0.3529,Train Acc:0.9166,Test Loss:0.1541,Test Acc:0.9528\n",
            "epoch:1,Train Loss:0.1290,Train Acc:0.9650,Test Loss:0.0999,Test Acc:0.9697\n",
            "epoch:2,Train Loss:0.0864,Train Acc:0.9765,Test Loss:0.0847,Test Acc:0.9733\n",
            "epoch:3,Train Loss:0.0672,Train Acc:0.9811,Test Loss:0.0753,Test Acc:0.9760\n",
            "epoch:4,Train Loss:0.0526,Train Acc:0.9857,Test Loss:0.0594,Test Acc:0.9815\n",
            "epoch:5,Train Loss:0.0382,Train Acc:0.9907,Test Loss:0.0302,Test Acc:0.9919\n",
            "epoch:6,Train Loss:0.0344,Train Acc:0.9921,Test Loss:0.0292,Test Acc:0.9925\n",
            "epoch:7,Train Loss:0.0327,Train Acc:0.9928,Test Loss:0.0286,Test Acc:0.9924\n",
            "epoch:8,Train Loss:0.0319,Train Acc:0.9926,Test Loss:0.0279,Test Acc:0.9931\n",
            "epoch:9,Train Loss:0.0303,Train Acc:0.9932,Test Loss:0.0273,Test Acc:0.9930\n",
            "epoch:10,Train Loss:0.0291,Train Acc:0.9937,Test Loss:0.0276,Test Acc:0.9935\n",
            "epoch:11,Train Loss:0.0290,Train Acc:0.9941,Test Loss:0.0268,Test Acc:0.9935\n",
            "epoch:12,Train Loss:0.0294,Train Acc:0.9939,Test Loss:0.0260,Test Acc:0.9938\n",
            "epoch:13,Train Loss:0.0288,Train Acc:0.9938,Test Loss:0.0267,Test Acc:0.9933\n",
            "epoch:14,Train Loss:0.0285,Train Acc:0.9944,Test Loss:0.0263,Test Acc:0.9936\n",
            "epoch:15,Train Loss:0.0288,Train Acc:0.9941,Test Loss:0.0264,Test Acc:0.9935\n",
            "epoch:16,Train Loss:0.0288,Train Acc:0.9941,Test Loss:0.0271,Test Acc:0.9933\n",
            "epoch:17,Train Loss:0.0290,Train Acc:0.9938,Test Loss:0.0264,Test Acc:0.9935\n",
            "epoch:18,Train Loss:0.0282,Train Acc:0.9943,Test Loss:0.0272,Test Acc:0.9929\n",
            "epoch:19,Train Loss:0.0289,Train Acc:0.9940,Test Loss:0.0264,Test Acc:0.9937\n"
          ],
          "name": "stdout"
        }
      ]
    },
    {
      "cell_type": "code",
      "metadata": {
        "colab": {
          "base_uri": "https://localhost:8080/"
        },
        "id": "QxyciDKhe6JZ",
        "outputId": "d95cf472-d7da-4112-806f-e1d439bd8a97"
      },
      "source": [
        "losses_pgd = []\r\n",
        "acces_pgd = []\r\n",
        "\r\n",
        "eval_losses_pgd = []\r\n",
        "eval_acces_pgd = []\r\n",
        "\r\n",
        "for epoch in range(nums_epoches):\r\n",
        "\r\n",
        "    train_loss = 0\r\n",
        "    train_acc = 0\r\n",
        "\r\n",
        "    model_2.train()\r\n",
        "\r\n",
        "    if epoch%5 == 0:\r\n",
        "        optimizer_2.param_groups[0]['lr'] *= 0.1\r\n",
        "    for img,label in train_loader:\r\n",
        "\r\n",
        "        img = img.view(img.size(0),-1)\r\n",
        "\r\n",
        "        img_pgd = img + pgd(model_2, img, label, 1e-1, 1e-3, 1)\r\n",
        "        \r\n",
        "        out = model_2(img_pgd)\r\n",
        "\r\n",
        "        loss = criterion_2(out,label)\r\n",
        "\r\n",
        "        optimizer_2.zero_grad()\r\n",
        "        loss.backward()\r\n",
        " \r\n",
        "        optimizer_2.step()\r\n",
        "\r\n",
        "        train_loss += loss.item()\r\n",
        "\r\n",
        "        _,pred = out.max(1)\r\n",
        "        num_correct = (pred == label).sum().item()\r\n",
        "        acc = num_correct/img.shape[0]\r\n",
        "        train_acc += acc\r\n",
        "    losses_pgd.append(train_loss/len(train_loader))\r\n",
        "    acces_pgd.append(train_acc/len(train_loader))\r\n",
        "    \r\n",
        "    eval_loss = 0\r\n",
        "    eval_acc = 0\r\n",
        "    model_2.eval()\r\n",
        "    for img,label in test_loader:\r\n",
        "        img = img.view(img.size(0),-1)\r\n",
        "        \r\n",
        "        out = model_2(img)\r\n",
        "        loss = criterion_2(out,label)\r\n",
        "        \r\n",
        "        optimizer_2.zero_grad()\r\n",
        "        loss.backward()\r\n",
        "        optimizer_2.step()\r\n",
        "        \r\n",
        "        eval_loss += loss.item()\r\n",
        "        \r\n",
        "        _,pred = out.max(1)\r\n",
        "        num_correct = (pred == label).sum().item()\r\n",
        "        acc = num_correct/img.shape[0]\r\n",
        "        eval_acc += acc\r\n",
        "    eval_losses_pgd.append(eval_loss/len(test_loader))\r\n",
        "    eval_acces_pgd.append(eval_acc/len(test_loader))\r\n",
        "\r\n",
        "    print('epoch:{},Train Loss:{:.4f},Train Acc:{:.4f},Test Loss:{:.4f},Test Acc:{:.4f}'\r\n",
        "             .format(epoch,train_loss/len(train_loader),train_acc/len(train_loader),\r\n",
        "                    eval_loss/len(test_loader),eval_acc/len(test_loader)))"
      ],
      "execution_count": 13,
      "outputs": [
        {
          "output_type": "stream",
          "text": [
            "epoch:0,Train Loss:2.4148,Train Acc:0.0953,Test Loss:2.4178,Test Acc:0.0927\n",
            "epoch:1,Train Loss:2.4149,Train Acc:0.0948,Test Loss:2.4170,Test Acc:0.0930\n",
            "epoch:2,Train Loss:2.4142,Train Acc:0.0952,Test Loss:2.4134,Test Acc:0.0938\n",
            "epoch:3,Train Loss:2.4140,Train Acc:0.0957,Test Loss:2.4143,Test Acc:0.0940\n",
            "epoch:4,Train Loss:2.4140,Train Acc:0.0960,Test Loss:2.4177,Test Acc:0.0951\n",
            "epoch:5,Train Loss:2.4153,Train Acc:0.0948,Test Loss:2.4093,Test Acc:0.0961\n",
            "epoch:6,Train Loss:2.4152,Train Acc:0.0963,Test Loss:2.4175,Test Acc:0.0940\n",
            "epoch:7,Train Loss:2.4148,Train Acc:0.0952,Test Loss:2.4159,Test Acc:0.0937\n",
            "epoch:8,Train Loss:2.4145,Train Acc:0.0956,Test Loss:2.4075,Test Acc:0.0937\n",
            "epoch:9,Train Loss:2.4152,Train Acc:0.0961,Test Loss:2.4125,Test Acc:0.0957\n",
            "epoch:10,Train Loss:2.4147,Train Acc:0.0949,Test Loss:2.4165,Test Acc:0.0958\n",
            "epoch:11,Train Loss:2.4150,Train Acc:0.0954,Test Loss:2.4136,Test Acc:0.0972\n",
            "epoch:12,Train Loss:2.4146,Train Acc:0.0967,Test Loss:2.4084,Test Acc:0.0971\n",
            "epoch:13,Train Loss:2.4145,Train Acc:0.0959,Test Loss:2.4107,Test Acc:0.0961\n",
            "epoch:14,Train Loss:2.4143,Train Acc:0.0964,Test Loss:2.4149,Test Acc:0.0954\n",
            "epoch:15,Train Loss:2.4146,Train Acc:0.0955,Test Loss:2.4075,Test Acc:0.0957\n",
            "epoch:16,Train Loss:2.4147,Train Acc:0.0959,Test Loss:2.4218,Test Acc:0.0924\n",
            "epoch:17,Train Loss:2.4142,Train Acc:0.0948,Test Loss:2.4094,Test Acc:0.0968\n",
            "epoch:18,Train Loss:2.4145,Train Acc:0.0965,Test Loss:2.4151,Test Acc:0.0958\n",
            "epoch:19,Train Loss:2.4147,Train Acc:0.0950,Test Loss:2.4177,Test Acc:0.0943\n"
          ],
          "name": "stdout"
        }
      ]
    },
    {
      "cell_type": "code",
      "metadata": {
        "colab": {
          "base_uri": "https://localhost:8080/",
          "height": 298
        },
        "id": "9_x-zZWnwySs",
        "outputId": "ea7ef6a1-3105-4771-f1c3-f9c9e8f50198"
      },
      "source": [
        "plt.title('trainloss')\r\n",
        "plt.plot(np.arange(len(losses)),losses, np.arange(len(losses_pgd)),losses_pgd)\r\n",
        "plt.legend(['Train Loss', 'Train Loss of attacked model'],loc='right')"
      ],
      "execution_count": 14,
      "outputs": [
        {
          "output_type": "execute_result",
          "data": {
            "text/plain": [
              "<matplotlib.legend.Legend at 0x7f7aec580048>"
            ]
          },
          "metadata": {
            "tags": []
          },
          "execution_count": 14
        },
        {
          "output_type": "display_data",
          "data": {
            "image/png": "[encoded data removed]",
            "text/plain": [
              "<Figure size 432x288 with 1 Axes>"
            ]
          },
          "metadata": {
            "tags": [],
            "needs_background": "light"
          }
        }
      ]
    },
    {
      "cell_type": "code",
      "metadata": {
        "id": "H_N4_F3Lw86E"
      },
      "source": [
        ""
      ],
      "execution_count": null,
      "outputs": []
    }
  ]
}