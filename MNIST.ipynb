{
  "nbformat": 4,
  "nbformat_minor": 0,
  "metadata": {
    "colab": {
      "name": "MNIST.ipynb",
      "provenance": [],
      "authorship_tag": "ABX9TyMTa0wzTXRYbxPm2LJydMA7",
      "include_colab_link": true
    },
    "kernelspec": {
      "name": "python3",
      "display_name": "Python 3"
    }
  },
  "cells": [
    {
      "cell_type": "markdown",
      "metadata": {
        "id": "view-in-github",
        "colab_type": "text"
      },
      "source": [
        "<a href=\"https://colab.research.google.com/github/XiaobingDean/MNIST/blob/main/MNIST.ipynb\" target=\"_parent\"><img src=\"https://colab.research.google.com/assets/colab-badge.svg\" alt=\"Open In Colab\"/></a>"
      ]
    },
    {
      "cell_type": "code",
      "metadata": {
        "id": "TJtwQs33cEwh"
      },
      "source": [
        "import os\r\n",
        "import sys\r\n",
        "import numpy as np\r\n",
        "\r\n",
        "import torch\r\n",
        "import torch.nn as nn\r\n",
        "import torch.optim as optim\r\n",
        "\r\n",
        "import torchvision.utils\r\n",
        "from torchvision import models\r\n",
        "import torchvision.datasets as dsets\r\n",
        "import torchvision.transforms as transforms\r\n"
      ],
      "execution_count": 21,
      "outputs": []
    },
    {
      "cell_type": "code",
      "metadata": {
        "id": "-RM7_g91cOO_"
      },
      "source": [
        "use_cuda = True\r\n",
        "device = torch.device(\"cuda\" if use_cuda else \"cpu\")"
      ],
      "execution_count": null,
      "outputs": []
    },
    {
      "cell_type": "code",
      "metadata": {
        "id": "0j-h-rtTcU0k"
      },
      "source": [
        "transform = transforms.Compose([transforms.ToTensor(),transforms.Normalize([0.5],[0.5])])\r\n",
        "train_dataset = mnist.MNIST('./data', train=True, transform=transform, target_transform=None, download=True)\r\n",
        "test_dataset = mnist.MNIST('./data', train=False, transform=transform, target_transform=None, download=False)\r\n",
        "train_loader = DataLoader(train_dataset, batch_size=train_batch_size, shuffle=True)\r\n",
        "test_loader = DataLoader(test_dataset, batch_size=test_batch_size, shuffle=False)"
      ],
      "execution_count": null,
      "outputs": []
    },
    {
      "cell_type": "code",
      "metadata": {
        "colab": {
          "base_uri": "https://localhost:8080/",
          "height": 284
        },
        "id": "XdjPUb0Fche1",
        "outputId": "de6c3670-c5b2-4edc-be0a-3f8632545661"
      },
      "source": [
        "import matplotlib.pyplot as plt\r\n",
        "%matplotlib inline\r\n",
        "examples = enumerate(test_loader)\r\n",
        "batch_idx,(example_data,example_targets) = next(examples)\r\n",
        "fig = plt.figure()\r\n",
        "for i in range(6):\r\n",
        "    plt.subplot(2,3,i+1)\r\n",
        "    plt.tight_layout()\r\n",
        "    plt.imshow(example_data[i][0],cmap='gray',interpolation='none')\r\n",
        "    plt.title(\"Ground Truth:{}\".format(example_targets[i]))\r\n",
        "    plt.xticks([])\r\n",
        "    plt.yticks([])"
      ],
      "execution_count": null,
      "outputs": [
        {
          "output_type": "display_data",
          "data": {
            "image/png": "[encoded data removed]",
            "text/plain": [
              "<Figure size 432x288 with 6 Axes>"
            ]
          },
          "metadata": {
            "tags": []
          }
        }
      ]
    },
    {
      "cell_type": "code",
      "metadata": {
        "colab": {
          "base_uri": "https://localhost:8080/",
          "height": 166
        },
        "id": "ISj-8OAwclUG",
        "outputId": "82aff9bc-de88-4e9f-c9ff-419c40cbb925"
      },
      "source": [
        "model = models.inception_v3(pretrained=True).to(device)"
      ],
      "execution_count": null,
      "outputs": [
        {
          "output_type": "error",
          "ename": "NameError",
          "evalue": "ignored",
          "traceback": [
            "\u001b[0;31m---------------------------------------------------------------------------\u001b[0m",
            "\u001b[0;31mNameError\u001b[0m                                 Traceback (most recent call last)",
            "\u001b[0;32m<ipython-input-19-569695775cc7>\u001b[0m in \u001b[0;36m<module>\u001b[0;34m()\u001b[0m\n\u001b[0;32m----> 1\u001b[0;31m \u001b[0mmodel\u001b[0m \u001b[0;34m=\u001b[0m \u001b[0mmodels\u001b[0m\u001b[0;34m.\u001b[0m\u001b[0minception_v3\u001b[0m\u001b[0;34m(\u001b[0m\u001b[0mpretrained\u001b[0m\u001b[0;34m=\u001b[0m\u001b[0;32mTrue\u001b[0m\u001b[0;34m)\u001b[0m\u001b[0;34m.\u001b[0m\u001b[0mto\u001b[0m\u001b[0;34m(\u001b[0m\u001b[0mdevice\u001b[0m\u001b[0;34m)\u001b[0m\u001b[0;34m\u001b[0m\u001b[0;34m\u001b[0m\u001b[0m\n\u001b[0m",
            "\u001b[0;31mNameError\u001b[0m: name 'models' is not defined"
          ]
        }
      ]
    },
    {
      "cell_type": "code",
      "metadata": {
        "id": "pKHhWdkxctLH"
      },
      "source": [
        "model = CNN(28*28,300,100,10)\r\n",
        "criterion = nn.CrossEntropyLoss()\r\n",
        "optimizer = optim.SGD(model.parameters(),lr=lr,momentum=momentum)"
      ],
      "execution_count": null,
      "outputs": []
    },
    {
      "cell_type": "code",
      "metadata": {
        "colab": {
          "base_uri": "https://localhost:8080/"
        },
        "id": "hRp_vizrcz1b",
        "outputId": "66137ebd-ae5d-41d6-d33b-c0e68bf44b35"
      },
      "source": [
        "losses = []\r\n",
        "acces = []\r\n",
        "\r\n",
        "eval_losses = []\r\n",
        "eval_acces = []\r\n",
        "\r\n",
        "for epoch in range(nums_epoches):\r\n",
        "\r\n",
        "    train_loss = 0\r\n",
        "    train_acc = 0\r\n",
        "\r\n",
        "    model.train()\r\n",
        "\r\n",
        "    if epoch%5 == 0:\r\n",
        "        optimizer.param_groups[0]['lr'] *= 0.1\r\n",
        "    for img,label in train_loader:\r\n",
        "\r\n",
        "        img = img.view(img.size(0),-1)\r\n",
        "\r\n",
        "        out = model(img)\r\n",
        "\r\n",
        "        loss = criterion(out,label)\r\n",
        "\r\n",
        "        optimizer.zero_grad()\r\n",
        "        loss.backward()\r\n",
        " \r\n",
        "        optimizer.step()\r\n",
        "\r\n",
        "        train_loss += loss.item()\r\n",
        "\r\n",
        "        _,pred = out.max(1)\r\n",
        "        num_correct = (pred == label).sum().item()\r\n",
        "        acc = num_correct/img.shape[0]\r\n",
        "        train_acc += acc\r\n",
        "    losses.append(train_loss/len(train_loader))\r\n",
        "    acces.append(train_acc/len(train_loader))\r\n",
        "    \r\n",
        "    eval_loss = 0\r\n",
        "    eval_acc = 0\r\n",
        "    model.eval()\r\n",
        "    for img,label in test_loader:\r\n",
        "        img = img.view(img.size(0),-1)\r\n",
        "        \r\n",
        "        out = model(img)\r\n",
        "        loss = criterion(out,label)\r\n",
        "        \r\n",
        "        optimizer.zero_grad()\r\n",
        "        loss.backward()\r\n",
        "        optimizer.step()\r\n",
        "        \r\n",
        "        eval_loss += loss.item()\r\n",
        "        \r\n",
        "        _,pred = out.max(1)\r\n",
        "        num_correct = (pred == label).sum().item()\r\n",
        "        acc = num_correct/img.shape[0]\r\n",
        "        eval_acc += acc\r\n",
        "    eval_losses.append(eval_loss/len(test_loader))\r\n",
        "    eval_acces.append(eval_acc/len(test_loader))\r\n",
        "\r\n",
        "    print('epoch:{},Train Loss:{:.4f},Train Acc:{:.4f},Test Loss:{:.4f},Test Acc:{:.4f}'\r\n",
        "             .format(epoch,train_loss/len(train_loader),train_acc/len(train_loader),\r\n",
        "                    eval_loss/len(test_loader),eval_acc/len(test_loader)))"
      ],
      "execution_count": null,
      "outputs": [
        {
          "output_type": "stream",
          "text": [
            "epoch:0,Train Loss:0.3587,Train Acc:0.9147,Test Loss:0.1533,Test Acc:0.9539\n",
            "epoch:1,Train Loss:0.1261,Train Acc:0.9658,Test Loss:0.1103,Test Acc:0.9680\n",
            "epoch:2,Train Loss:0.0893,Train Acc:0.9754,Test Loss:0.0859,Test Acc:0.9750\n",
            "epoch:3,Train Loss:0.0679,Train Acc:0.9816,Test Loss:0.0716,Test Acc:0.9775\n",
            "epoch:4,Train Loss:0.0526,Train Acc:0.9863,Test Loss:0.0898,Test Acc:0.9743\n",
            "epoch:5,Train Loss:0.0412,Train Acc:0.9895,Test Loss:0.0309,Test Acc:0.9917\n",
            "epoch:6,Train Loss:0.0355,Train Acc:0.9914,Test Loss:0.0300,Test Acc:0.9918\n",
            "epoch:7,Train Loss:0.0350,Train Acc:0.9918,Test Loss:0.0297,Test Acc:0.9922\n",
            "epoch:8,Train Loss:0.0331,Train Acc:0.9927,Test Loss:0.0289,Test Acc:0.9924\n",
            "epoch:9,Train Loss:0.0315,Train Acc:0.9930,Test Loss:0.0278,Test Acc:0.9929\n",
            "epoch:10,Train Loss:0.0303,Train Acc:0.9935,Test Loss:0.0265,Test Acc:0.9935\n",
            "epoch:11,Train Loss:0.0301,Train Acc:0.9936,Test Loss:0.0278,Test Acc:0.9929\n",
            "epoch:12,Train Loss:0.0299,Train Acc:0.9939,Test Loss:0.0273,Test Acc:0.9930\n",
            "epoch:13,Train Loss:0.0298,Train Acc:0.9938,Test Loss:0.0265,Test Acc:0.9935\n",
            "epoch:14,Train Loss:0.0296,Train Acc:0.9938,Test Loss:0.0268,Test Acc:0.9927\n",
            "epoch:15,Train Loss:0.0292,Train Acc:0.9938,Test Loss:0.0276,Test Acc:0.9927\n",
            "epoch:16,Train Loss:0.0295,Train Acc:0.9938,Test Loss:0.0267,Test Acc:0.9933\n",
            "epoch:17,Train Loss:0.0297,Train Acc:0.9938,Test Loss:0.0273,Test Acc:0.9928\n",
            "epoch:18,Train Loss:0.0295,Train Acc:0.9939,Test Loss:0.0269,Test Acc:0.9936\n",
            "epoch:19,Train Loss:0.0292,Train Acc:0.9939,Test Loss:0.0271,Test Acc:0.9925\n"
          ],
          "name": "stdout"
        }
      ]
    },
    {
      "cell_type": "code",
      "metadata": {
        "colab": {
          "base_uri": "https://localhost:8080/",
          "height": 298
        },
        "id": "QxyciDKhe6JZ",
        "outputId": "2fed373f-9106-4ac2-8367-176dc4dd5890"
      },
      "source": [
        "plt.title('trainloss')\r\n",
        "plt.plot(np.arange(len(losses)),losses)\r\n",
        "plt.legend(['Train Loss'],loc='upper right')"
      ],
      "execution_count": null,
      "outputs": [
        {
          "output_type": "execute_result",
          "data": {
            "text/plain": [
              "<matplotlib.legend.Legend at 0x7f8a61e029e8>"
            ]
          },
          "metadata": {
            "tags": []
          },
          "execution_count": 10
        },
        {
          "output_type": "display_data",
          "data": {
            "image/png": "[encoded data removed]",
            "text/plain": [
              "<Figure size 432x288 with 1 Axes>"
            ]
          },
          "metadata": {
            "tags": [],
            "needs_background": "light"
          }
        }
      ]
    },
    {
      "cell_type": "code",
      "metadata": {
        "id": "xwZ8Vkt-qKvm"
      },
      "source": [
        "def pgd_attack(model, images, labels, eps=0.3, alpha=2/255, iters=40) :\r\n",
        "    images = img.view(img.size(0),-1)\r\n",
        "    out = model(img)\r\n",
        "    loss = criterion(out,label)\r\n",
        "    \r\n",
        "        \r\n",
        "    ori_images = images.data\r\n",
        "        \r\n",
        "    for i in range(iters) :    \r\n",
        "        images.requires_grad = True\r\n",
        "        outputs = model(images)\r\n",
        "\r\n",
        "        model.zero_grad()\r\n",
        "        \r\n",
        "        loss.backward()\r\n",
        "\r\n",
        "        adv_images = images + alpha*images.grad.sign()\r\n",
        "        eta = torch.clamp(adv_images - ori_images, min=-eps, max=eps)\r\n",
        "        images = torch.clamp(ori_images + eta, min=0, max=1).detach_()\r\n",
        "            \r\n",
        "    return images"
      ],
      "execution_count": null,
      "outputs": []
    },
    {
      "cell_type": "code",
      "metadata": {
        "colab": {
          "base_uri": "https://localhost:8080/",
          "height": 350
        },
        "id": "9_x-zZWnwySs",
        "outputId": "5467b899-6bcb-416d-e7fa-33a52db0870e"
      },
      "source": [
        "model.eval()\r\n",
        "\r\n",
        "correct = 0\r\n",
        "total = 0\r\n",
        "\r\n",
        "for images, labels in test_loader:\r\n",
        "    \r\n",
        "    images = pgd_attack(model, images, labels)\r\n",
        "    labels = labels.to(device)\r\n",
        "    outputs = model(images)\r\n",
        "    \r\n",
        "    _, pre = torch.max(outputs.data, 1)\r\n",
        "\r\n",
        "    total += 1\r\n",
        "    correct += (pre == labels).sum()\r\n",
        "    \r\n",
        "    imshow(torchvision.utils.make_grid(images.cpu().data, normalize=True), [normal_data.classes[i] for i in pre])"
      ],
      "execution_count": null,
      "outputs": [
        {
          "output_type": "error",
          "ename": "AttributeError",
          "evalue": "ignored",
          "traceback": [
            "\u001b[0;31m---------------------------------------------------------------------------\u001b[0m",
            "\u001b[0;31mAttributeError\u001b[0m                            Traceback (most recent call last)",
            "\u001b[0;32m<ipython-input-15-50b76cb90b95>\u001b[0m in \u001b[0;36m<module>\u001b[0;34m()\u001b[0m\n\u001b[1;32m      6\u001b[0m \u001b[0;32mfor\u001b[0m \u001b[0mimages\u001b[0m\u001b[0;34m,\u001b[0m \u001b[0mlabels\u001b[0m \u001b[0;32min\u001b[0m \u001b[0mtest_loader\u001b[0m\u001b[0;34m:\u001b[0m\u001b[0;34m\u001b[0m\u001b[0;34m\u001b[0m\u001b[0m\n\u001b[1;32m      7\u001b[0m \u001b[0;34m\u001b[0m\u001b[0m\n\u001b[0;32m----> 8\u001b[0;31m     \u001b[0mimages\u001b[0m \u001b[0;34m=\u001b[0m \u001b[0mpgd_attack\u001b[0m\u001b[0;34m(\u001b[0m\u001b[0mmodel\u001b[0m\u001b[0;34m,\u001b[0m \u001b[0mimages\u001b[0m\u001b[0;34m,\u001b[0m \u001b[0mlabels\u001b[0m\u001b[0;34m)\u001b[0m\u001b[0;34m\u001b[0m\u001b[0;34m\u001b[0m\u001b[0m\n\u001b[0m\u001b[1;32m      9\u001b[0m     \u001b[0mlabels\u001b[0m \u001b[0;34m=\u001b[0m \u001b[0mlabels\u001b[0m\u001b[0;34m.\u001b[0m\u001b[0mto\u001b[0m\u001b[0;34m(\u001b[0m\u001b[0mdevice\u001b[0m\u001b[0;34m)\u001b[0m\u001b[0;34m\u001b[0m\u001b[0;34m\u001b[0m\u001b[0m\n\u001b[1;32m     10\u001b[0m     \u001b[0moutputs\u001b[0m \u001b[0;34m=\u001b[0m \u001b[0mmodel\u001b[0m\u001b[0;34m(\u001b[0m\u001b[0mimages\u001b[0m\u001b[0;34m)\u001b[0m\u001b[0;34m\u001b[0m\u001b[0;34m\u001b[0m\u001b[0m\n",
            "\u001b[0;32m<ipython-input-14-666a827d68a4>\u001b[0m in \u001b[0;36mpgd_attack\u001b[0;34m(model, images, labels, eps, alpha, iters)\u001b[0m\n\u001b[1;32m     15\u001b[0m         \u001b[0mloss\u001b[0m\u001b[0;34m.\u001b[0m\u001b[0mbackward\u001b[0m\u001b[0;34m(\u001b[0m\u001b[0;34m)\u001b[0m\u001b[0;34m\u001b[0m\u001b[0;34m\u001b[0m\u001b[0m\n\u001b[1;32m     16\u001b[0m \u001b[0;34m\u001b[0m\u001b[0m\n\u001b[0;32m---> 17\u001b[0;31m         \u001b[0madv_images\u001b[0m \u001b[0;34m=\u001b[0m \u001b[0mimages\u001b[0m \u001b[0;34m+\u001b[0m \u001b[0malpha\u001b[0m\u001b[0;34m*\u001b[0m\u001b[0mimages\u001b[0m\u001b[0;34m.\u001b[0m\u001b[0mgrad\u001b[0m\u001b[0;34m.\u001b[0m\u001b[0msign\u001b[0m\u001b[0;34m(\u001b[0m\u001b[0;34m)\u001b[0m\u001b[0;34m\u001b[0m\u001b[0;34m\u001b[0m\u001b[0m\n\u001b[0m\u001b[1;32m     18\u001b[0m         \u001b[0meta\u001b[0m \u001b[0;34m=\u001b[0m \u001b[0mtorch\u001b[0m\u001b[0;34m.\u001b[0m\u001b[0mclamp\u001b[0m\u001b[0;34m(\u001b[0m\u001b[0madv_images\u001b[0m \u001b[0;34m-\u001b[0m \u001b[0mori_images\u001b[0m\u001b[0;34m,\u001b[0m \u001b[0mmin\u001b[0m\u001b[0;34m=\u001b[0m\u001b[0;34m-\u001b[0m\u001b[0meps\u001b[0m\u001b[0;34m,\u001b[0m \u001b[0mmax\u001b[0m\u001b[0;34m=\u001b[0m\u001b[0meps\u001b[0m\u001b[0;34m)\u001b[0m\u001b[0;34m\u001b[0m\u001b[0;34m\u001b[0m\u001b[0m\n\u001b[1;32m     19\u001b[0m         \u001b[0mimages\u001b[0m \u001b[0;34m=\u001b[0m \u001b[0mtorch\u001b[0m\u001b[0;34m.\u001b[0m\u001b[0mclamp\u001b[0m\u001b[0;34m(\u001b[0m\u001b[0mori_images\u001b[0m \u001b[0;34m+\u001b[0m \u001b[0meta\u001b[0m\u001b[0;34m,\u001b[0m \u001b[0mmin\u001b[0m\u001b[0;34m=\u001b[0m\u001b[0;36m0\u001b[0m\u001b[0;34m,\u001b[0m \u001b[0mmax\u001b[0m\u001b[0;34m=\u001b[0m\u001b[0;36m1\u001b[0m\u001b[0;34m)\u001b[0m\u001b[0;34m.\u001b[0m\u001b[0mdetach_\u001b[0m\u001b[0;34m(\u001b[0m\u001b[0;34m)\u001b[0m\u001b[0;34m\u001b[0m\u001b[0;34m\u001b[0m\u001b[0m\n",
            "\u001b[0;31mAttributeError\u001b[0m: 'NoneType' object has no attribute 'sign'"
          ]
        }
      ]
    },
    {
      "cell_type": "code",
      "metadata": {
        "id": "H_N4_F3Lw86E"
      },
      "source": [
        ""
      ],
      "execution_count": null,
      "outputs": []
    }
  ]
}